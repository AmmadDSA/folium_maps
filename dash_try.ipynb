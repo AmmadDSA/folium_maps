{
 "cells": [
  {
   "cell_type": "code",
   "execution_count": 1,
   "id": "f35510f4",
   "metadata": {},
   "outputs": [
    {
     "name": "stdout",
     "output_type": "stream",
     "text": [
      "Dash is running on http://127.0.0.1:8050/\n",
      "\n",
      " * Serving Flask app '__main__'\n",
      " * Debug mode: off\n"
     ]
    },
    {
     "name": "stderr",
     "output_type": "stream",
     "text": [
      "WARNING: This is a development server. Do not use it in a production deployment. Use a production WSGI server instead.\n",
      " * Running on http://127.0.0.1:8050\n",
      "Press CTRL+C to quit\n"
     ]
    }
   ],
   "source": [
    "from dash import Dash, dcc, html, Input, Output\n",
    "import plotly.express as px\n",
    "import geopandas as gpd\n",
    "\n",
    "# token = open(\".mapbox_token\").read() # you will need your own token\n",
    "\n",
    "\n",
    "app = Dash(__name__)\n",
    "\n",
    "app.layout = html.Div([\n",
    "    html.H4('Polotical candidate voting pool analysis'),\n",
    "    html.P(\"Select a candidate:\"),\n",
    "    dcc.RadioItems(\n",
    "        id='candidate', \n",
    "        options=[\"Joly\", \"Coderre\", \"Bergeron\"],\n",
    "        value=\"Coderre\",\n",
    "        inline=True\n",
    "    ),\n",
    "    dcc.Graph(id=\"graph\"),\n",
    "])\n",
    "\n",
    "\n",
    "@app.callback(\n",
    "    Output(\"graph\", \"figure\"), \n",
    "    Input(\"candidate\", \"value\"))\n",
    "def display_choropleth(candidate):\n",
    "    election = 'https://raw.githubusercontent.com/plotly/datasets/master/election.csv'\n",
    "    election_json = 'https://raw.githubusercontent.com/plotly/datasets/master/election.geojson'\n",
    "    df = px.read_csv(election) # replace with your own data source\n",
    "    geojson = gpd.read_file(election_json)\n",
    "\n",
    "    fig = px.choropleth_mapbox(\n",
    "        df, geojson=geojson, color=candidate,\n",
    "        locations=\"district\", featureidkey=\"properties.district\",\n",
    "        center={\"lat\": 45.5517, \"lon\": -73.7073}, zoom=9,\n",
    "        range_color=[0, 6500])\n",
    "#     fig.update_layout(\n",
    "#         margin={\"r\":0,\"t\":0,\"l\":0,\"b\":0},\n",
    "#         mapbox_accesstoken=token)\n",
    "\n",
    "    return fig\n",
    "\n",
    "if __name__ == '__main__':\n",
    "    app.run_server(debug=False)"
   ]
  },
  {
   "cell_type": "code",
   "execution_count": null,
   "id": "59296d52",
   "metadata": {},
   "outputs": [],
   "source": []
  }
 ],
 "metadata": {
  "kernelspec": {
   "display_name": "Python 3 (ipykernel)",
   "language": "python",
   "name": "python3"
  },
  "language_info": {
   "codemirror_mode": {
    "name": "ipython",
    "version": 3
   },
   "file_extension": ".py",
   "mimetype": "text/x-python",
   "name": "python",
   "nbconvert_exporter": "python",
   "pygments_lexer": "ipython3",
   "version": "3.9.12"
  }
 },
 "nbformat": 4,
 "nbformat_minor": 5
}
